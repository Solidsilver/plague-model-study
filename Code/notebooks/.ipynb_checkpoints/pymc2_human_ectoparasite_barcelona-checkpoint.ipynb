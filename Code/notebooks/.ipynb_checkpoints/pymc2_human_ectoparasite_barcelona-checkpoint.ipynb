{
 "cells": [
  {
   "cell_type": "markdown",
   "metadata": {
    "id": "GwrZ0Oo_wxJB"
   },
   "source": [
    "## Human ectoparasite model"
   ]
  },
  {
   "cell_type": "markdown",
   "metadata": {
    "id": "o7gDzktKwxJE"
   },
   "source": [
    "#### Import packages"
   ]
  },
  {
   "cell_type": "code",
   "execution_count": 93,
   "metadata": {
    "ExecuteTime": {
     "end_time": "2020-12-11T15:30:15.851344Z",
     "start_time": "2020-12-11T15:30:14.735444Z"
    },
    "colab": {
     "base_uri": "https://localhost:8080/"
    },
    "id": "an_CfckuwxJH",
    "outputId": "4c6caf8f-1c28-4741-c9d0-0ef614f9a7e7"
   },
   "outputs": [
    {
     "name": "stdout",
     "output_type": "stream",
     "text": [
      "\u001b[33mDEPRECATION: Python 2.7 will reach the end of its life on January 1st, 2020. Please upgrade your Python as Python 2.7 won't be maintained after that date. A future version of pip will drop support for Python 2.7. More details about Python 2 support in pip, can be found at https://pip.pypa.io/en/latest/development/release-process/#python-2-support\u001b[0m\r\n",
      "Requirement already satisfied: pymc in /Users/solidsilver/opt/miniconda3/envs/py2/lib/python2.7/site-packages (2.3.7)\r\n"
     ]
    }
   ],
   "source": [
    "!pip install pymc\n",
    "import numpy as np\n",
    "import pymc as pm\n",
    "import matplotlib.pyplot as plt\n",
    "from pymc.Matplot import plot\n",
    "import scipy.stats"
   ]
  },
  {
   "cell_type": "markdown",
   "metadata": {
    "id": "7RXkSkEAwxJP"
   },
   "source": [
    "#### Import observed data"
   ]
  },
  {
   "cell_type": "code",
   "execution_count": 94,
   "metadata": {
    "ExecuteTime": {
     "end_time": "2020-12-11T15:30:15.974393Z",
     "start_time": "2020-12-11T15:30:15.856267Z"
    },
    "id": "M86wWEUAwxJQ"
   },
   "outputs": [],
   "source": [
    "barcelona_1490 = np.array([1,0,1,1,0,1,5,3,1,0,1,1,2,3,5,0,6,3,6,3,8,1,5,2,1,1,2,2,2,5,7,12,4,3,5,3,8,5,8,8,6,12,11,22,15,14,24,14,15,20,20,13,11,25,28,30,24,28,42,24,32,24,27,31,34,33,29,31,38,40,42,38,53,44,66,52,53,56,63,49,60,57,65,55,55,47,67,62,65,57,47,46,62,54,52,48,49,64,46,67,52,50,56,46,41,38,36,39,31,32,41,25,32,35,36,36,33,26,42,31,19,27,23,22,15,24,32,19,10,16,12,15,14,13,12,13,12,6,12,15,5,9,3,5,12,6,7,3,3,3,3,2,3,3,0,3,2,3,3,1,1,4,2,3,0,2,3,2,0,1,1,4,1,2,2,1,1,2,0,1,1,2])\n",
    "barcelona_pop = 25000.0\n",
    "\n",
    "malta_1813 = np.array([1, 0, 1, 2, 0, 0, 0, 0, 0, 1, 0, 0, 3, 0, 2, 8, 10, 6, 6, 4, 7, 4, 5, 5, 7, 16, 10, 12, 18, 8, 13, 19, 16, 24, 19, 28, 24, 32, 27, 33, 33, 36, 19, 19, 23, 28, 21, 18, 24, 32, 29, 33, 23, 34, 39, 37, 44, 47, 53, 42, 44, 53, 43, 49, 56, 55, 51, 52, 56, 63, 59, 55, 65, 67, 36, 50, 41, 43, 41, 55, 48, 45, 44, 53, 47, 64, 49, 53, 63, 58, 50, 48, 27, 47, 43, 35, 37, 24, 26, 28, 26, 31, 31, 29, 34, 28, 32, 38, 27, 32, 32, 34, 33, 34, 31, 38, 27, 25, 29, 28, 26, 37, 33, 32, 28, 34, 34, 38, 29, 30, 24, 20, 23, 17, 17, 30, 23, 12, 20, 24, 21, 12, 12, 16, 11, 11, 19, 12, 15, 14, 16, 12, 16, 15, 7, 6, 14, 13, 9, 8, 5, 3, 5, 4, 3, 5, 5, 5, 4, 7, 10, 2, 4, 7, 6, 2, 3, 5, 1, 5, 3, 1, 1, 3, 2, 3, 3, 1, 3, 0, 2, 0, 2, 2, 2, 1, 1, 3, 4, 2, 4, 1, 2, 1, 2, 1, 4, 1, 1])\n",
    "malta_pop = 97000.0\n",
    "\n",
    "florence_1400 = np.array([8, 19, 9, 7, 12, 10, 5, 16, 11, 16, 19, 22, 18, 16, 29, 30, 28, 29, 30, 28, 28, 28, 32, 38, 28, 46, 44, 44, 49, 49, 47, 52, 44, 44, 39, 57, 62, 67, 70, 64, 91, 87, 102, 103, 74, 81, 77, 73, 70, 82, 109, 98, 106, 104, 141, 147, 150, 161, 200, 161, 153, 147, 150, 173, 170, 204, 189, 176, 180, 180, 169, 137, 155, 170, 138, 136, 129, 152, 135, 118, 158, 125, 148, 153, 134, 126, 108, 121, 124, 101, 113, 70, 73, 73, 63, 76, 51, 84, 65, 76, 57, 55, 44, 47, 44, 32, 36, 27, 35, 37, 29, 35, 38, 36, 20, 51, 30, 42, 29, 27, 27, 23, 34, 22, 12, 21, 28, 18, 12, 18, 18, 21, 14, 28, 23, 20, 16, 15, 17, 23, 15, 13, 15, 8, 15, 12, 22, 5, 11, 8, 7, 13, 5, 10, 6, 12, 4, 13, 11, 10, 3, 5, 11, 5, 7, 5, 6, 3, 11, 5, 5, 11, 6, 5, 8, 6, 6, 6, 5, 6])\n",
    "florence_pop = 60000.0\n",
    "\n",
    "cairo_1835 = np.array([34, 24, 23, 18, 21, 16, 17, 26, 12, 17, 21, 25, 25, 17, 23, 20, 9, 19, 20, 19, 18, 28, 31, 16, 20, 29, 21, 14, 18, 26, 19, 32, 27, 30, 27, 33, 20, 26, 29, 26, 32, 20, 25, 27, 30, 23, 21, 22, 24, 29, 41, 41, 45, 39, 40, 34, 51, 47, 48, 57, 47, 55, 50, 63, 53, 54, 55, 55, 66, 44, 61, 49, 71, 66, 55, 64, 76, 73, 68, 82, 73, 84, 86, 66, 78, 89, 89, 92, 112, 83, 114, 140, 136, 126, 121, 112, 105, 122, 128, 104, 87, 95, 88, 91, 79, 90, 78, 96, 82, 84, 95, 86, 100, 100, 79, 71, 79, 64, 73, 62, 78, 68, 55, 60, 69, 75, 59, 62, 59, 55, 62, 49, 46, 39, 34, 27, 29, 30, 30, 16, 11, 21, 18, 18, 20, 11, 14, 21, 17, 13, 13, 17, 13, 20, 21, 10, 11, 10, 15, 15, 8, 5, 7, 6, 14, 4, 10, 6, 7, 10, 4, 13, 11, 9, 6, 10, 4, 6, 14, 3, 3, 3, 0, 1, 5, 19, 26, 17, 21, 20, 23, 18, 34, 19, 23, 17, 28, 23, 33, 19, 34, 17, 19, 21, 26, 14, 24, 20, 25, 15, 20, 27, 19, 20, 19, 19, 30, 26, 34, 23, 25, 25, 22, 18, 32, 27, 29, 31, 43, 34, 37, 31, 29, 32, 34, 29, 49, 28, 52, 36, 44, 29, 34, 44, 51, 55, 48, 68, 58, 61, 73, 48, 65, 47, 69, 55, 78, 73, 91, 78, 96, 79, 128, 114, 127, 123, 153, 130, 151, 181, 179, 207, 214, 234, 179, 291, 312, 337, 357, 371, 394, 421, 407, 461, 460, 550, 545, 560, 579, 621, 596, 596, 662, 697, 746, 668, 722, 695, 760, 731, 760, 660, 748, 659, 717, 717, 753, 680, 653, 648, 638, 535, 575, 472, 437, 391, 364, 266, 344, 286, 270, 240, 237, 233, 192, 227, 168, 158, 169, 135, 107, 119, 92, 89, 92, 78, 66, 66, 55, 41, 49, 73, 45, 47, 46, 41, 44, 34, 47, 30, 40, 43, 42, 34, 28, 38, 33, 27, 20, 34, 34, 26, 34, 26, 22, 20])\n",
    "cairo_pop = 263700.0\n",
    "\n",
    "eyam_1665 = np.array([1, 1, 2, 1, 1, 1, 1, 1, 2, 1, 3, 4, 1, 3, 1, 1, 1, 1, 1, 2, 1, 2, 1, 2, 1, 1, 4, 2, 2, 1, 2, 1, 1, 1, 2, 3, 6, 1, 3, 1, 3, 4, 1, 3, 5, 4, 2, 6, 6, 3, 3, 4, 1, 1, 2, 1, 2, 8, 3, 5, 1, 3, 4, 2, 4, 2, 1, 1, 1, 3, 2, 1, 4, 2, 1, 1, 2, 2, 1, 3, 1, 2, 1, 1, 1, 1, 3, 1, 1, 1, 1, 1, 2, 2, 1, 1, 1, 1, 2, 2, 2, 2, 1, 2, 1, 1, 2, 1, 2, 1, 1, 1, 1, 1, 1, 1, 1, 1, 1, 1, 1, 1, 1, 1, 1, 1, 1, 2, 2, 1, 1, 1, 1, 1, 1, 1, 1, 1, 2, 1, 1, 2, 1, 1, 1])\n",
    "eyam_pop = 700.0\n",
    "\n",
    "prague_1713 = np.array([45, 62, 99, 117, 77, 59, 119, 106, 123, 111, 159, 106, 164, 143, 150, 160, 163, 129, 194, 171, 202, 155, 226, 241, 207, 198, 186, 286, 364, 198, 236, 243, 225, 228, 281, 246, 263, 247, 200, 154, 164, 134, 113, 99, 113, 136, 130, 126, 122, 142, 117, 90, 81, 82, 84, 104, 82, 74, 74, 64, 73, 81, 63, 67, 74, 82, 71, 59, 49, 48, 57, 43, 53, 72, 64, 48, 32, 42, 32, 27, 23, 26, 36, 35, 33, 24, 23, 17, 23, 12, 20, 19, 14, 12, 24, 19, 9, 17, 16, 21, 7, 13, 9, 21, 7, 10, 10, 8, 9, 10, 9, 6, 9, 7, 10, 4, 5, 11, 4, 6, 11, 9, 8, 9, 5, 7, 5, 10, 6, 3, 2, 7, 4, 1, 8, 1, 1, 3, 8, 6, 5, 3, 2, 4, 3, 7, 6, 4, 2, 5, 1, 1, 4, 2, 2, 2, 3, 3, 2, 2, 5, 1, 2, 3, 1, 2, 2, 2, 0, 0, 0, 1, 3, 0, 2, 0, 1, 0, 0, 0, 0, 1, 3, 1, 2, 1, 2, 1, 2, 0, 0, 0, 0, 0, 0, 0, 0, 1])\n",
    "prague_pop = 30000.0\n",
    "\n",
    "london_1563 = np.array([17, np.NaN, np.NaN, np.NaN, np.NaN, np.NaN, np.NaN, 25, np.NaN, np.NaN, np.NaN, np.NaN, np.NaN, np.NaN, 23, np.NaN, np.NaN, np.NaN, np.NaN, np.NaN, np.NaN, 44, np.NaN, np.NaN, np.NaN, np.NaN, np.NaN, np.NaN, 64, np.NaN, np.NaN, np.NaN, np.NaN, np.NaN, np.NaN, 131, np.NaN, np.NaN, np.NaN, np.NaN, np.NaN, np.NaN, 174, np.NaN, np.NaN, np.NaN, np.NaN, np.NaN, np.NaN, 289, np.NaN, np.NaN, np.NaN, np.NaN, np.NaN, np.NaN, 299, np.NaN, np.NaN, np.NaN, np.NaN, np.NaN, np.NaN, 542, np.NaN, np.NaN, np.NaN, np.NaN, np.NaN, np.NaN, 608, np.NaN, np.NaN, np.NaN, np.NaN, np.NaN, np.NaN, 976, np.NaN, np.NaN, np.NaN, np.NaN, np.NaN, np.NaN, 963, np.NaN, np.NaN, np.NaN, np.NaN, np.NaN, np.NaN, 1454, np.NaN, np.NaN, np.NaN, np.NaN, np.NaN, np.NaN, 1626, np.NaN, np.NaN, np.NaN, np.NaN, np.NaN, np.NaN, 1372, np.NaN, np.NaN, np.NaN, np.NaN, np.NaN, np.NaN, 1828, np.NaN, np.NaN, np.NaN, np.NaN, np.NaN, np.NaN, 1262, np.NaN, np.NaN, np.NaN, np.NaN, np.NaN, np.NaN, 829, np.NaN, np.NaN, np.NaN, np.NaN, np.NaN, np.NaN, 1000, np.NaN, np.NaN, np.NaN, np.NaN, np.NaN, np.NaN, 905, np.NaN, np.NaN, np.NaN, np.NaN, np.NaN, np.NaN, 380, np.NaN, np.NaN, np.NaN, np.NaN, np.NaN, np.NaN, 283, np.NaN, np.NaN, np.NaN, np.NaN, np.NaN, np.NaN, 506, np.NaN, np.NaN, np.NaN, np.NaN, np.NaN, np.NaN, 281, np.NaN, np.NaN, np.NaN, np.NaN, np.NaN, np.NaN, 178, np.NaN, np.NaN, np.NaN, np.NaN, np.NaN, np.NaN, 249, np.NaN, np.NaN, np.NaN, np.NaN, np.NaN, np.NaN, 239, np.NaN, np.NaN, np.NaN, np.NaN, np.NaN, np.NaN, 134, np.NaN, np.NaN, np.NaN, np.NaN, np.NaN, np.NaN, 121, np.NaN, np.NaN, np.NaN, np.NaN, np.NaN, np.NaN, 45, np.NaN, np.NaN, np.NaN, np.NaN, np.NaN, np.NaN, 26, np.NaN, np.NaN, np.NaN, np.NaN, np.NaN, np.NaN, 13])\n",
    "london_pop = 85000.0\n",
    "\n",
    "givry_1348 = np.array([2, np.NaN, np.NaN, np.NaN, np.NaN, np.NaN, np.NaN, np.NaN, np.NaN, np.NaN, np.NaN, np.NaN, 1, 1, np.NaN, np.NaN, np.NaN, 2, np.NaN, np.NaN, np.NaN, np.NaN, np.NaN, 3, 2, np.NaN, np.NaN, np.NaN, 4, 4, 1, np.NaN, 2, 1, 7, 5, 3, 1, 1, 4, 5, 3, 3, 4, 1, 5, 2, 4, 3, 6, 2, 2, 6, 3, 8, 4, 6, 10, 6, 9, 8, 8, 4, 6, 15, 3, 11, 24, 7, 10, 15, 10, 14, 11, 17, 8, 6, 3, 17, 6, 11, 16, 7, 16, 12, 5, 10, 7, 7, 6, 7, 7, 8, 7, 6, 6, 9, 4, 7, 9, 3, 14, 5, 5, 4, 8, 6, 7, 3, 2, 5, 4, 4, 2, 3, 1, 3, np.NaN, 6, 3, 4, 3, 4, np.NaN, 2, 1, np.NaN, 4, 3, 2, 1, np.NaN, np.NaN, 5, np.NaN, np.NaN, np.NaN, 3])\n",
    "givry_pop = 3000.0\n",
    "\n",
    "mortality_data = florence_1400\n",
    "pop_size = florence_pop\n",
    "t = len(mortality_data)"
   ]
  },
  {
   "cell_type": "markdown",
   "metadata": {
    "id": "079jjmn0wxJX"
   },
   "source": [
    "#### Set up the model"
   ]
  },
  {
   "cell_type": "code",
   "execution_count": 95,
   "metadata": {
    "ExecuteTime": {
     "end_time": "2020-12-11T15:30:16.118761Z",
     "start_time": "2020-12-11T15:30:15.978500Z"
    },
    "id": "nrp6hFFSwxJZ"
   },
   "outputs": [
    {
     "ename": "SyntaxError",
     "evalue": "invalid syntax (<ipython-input-95-acc6ad53dac3>, line 20)",
     "output_type": "error",
     "traceback": [
      "\u001b[0;36m  File \u001b[0;32m\"<ipython-input-95-acc6ad53dac3>\"\u001b[0;36m, line \u001b[0;32m20\u001b[0m\n\u001b[0;31m    I2_0 = 2.\u001b[0m\n\u001b[0m       ^\u001b[0m\n\u001b[0;31mSyntaxError\u001b[0m\u001b[0;31m:\u001b[0m invalid syntax\n"
     ]
    }
   ],
   "source": [
    "__all__ = ['mortality_data', 'beta_1','beta_2','beta_h', 'gamma', 'sigma', 'mu', 'lice_index', \n",
    "           'E_0', 'I_0', 'R_0', 'D_0', 'D_h',\n",
    "           'pop_size', 'sus_frac',\n",
    "           'mortality', 'mortality_sim']\n",
    "\n",
    "#Parameters\n",
    "beta_1 = pm.Uniform('beta_1', 1e-9, .05)\n",
    "beta_2 = pm.Uniform('beta_2', 1e-9, 1.)\n",
    "beta_h = 0.05\n",
    "sigma = 1/8.\n",
    "gamma = 1/2.\n",
    "mu = .6\n",
    "lice_index = 15.0\n",
    "# pop_size = barcelona_pop\n",
    "sus_frac = pm.Uniform('sus_frac', 1e-9, 1.)\n",
    "\n",
    "#Initial conditions\n",
    "S_0 = pop_size*sus_frac\n",
    "I1_0 = pm.Uniform('I1_0', 1., 100.0)\n",
    "I2_0 = 2.\n",
    "R_0 = 0.\n",
    "D_0 = 1.\n",
    "\n",
    "#SIIRD + vector model for human ectoparasite plague\n",
    "@pm.deterministic\n",
    "def SIRD(S_0=S_0, I1_0=I1_0, I2_0=I2_0, R_0=R_0, D_0=D_0, \n",
    "         beta_1=beta_1, beta_2=beta_2, beta_h=beta_h, \n",
    "         gamma=gamma, sigma=sigma, lice_index=lice_index):\n",
    "    S_h = np.zeros(t)\n",
    "    I1_h = np.zeros(t)\n",
    "    I2_h = np.zeros(t)\n",
    "    R_h = np.zeros(t)\n",
    "    D_h = np.zeros(t)\n",
    "    \n",
    "    S_v= np.zeros(t)\n",
    "    I_v = np.zeros(t)\n",
    "    \n",
    "    S_h[0] = S_0\n",
    "    I1_h[0] = I1_0\n",
    "    I2_h[0] = I2_0\n",
    "    R_h[0] = R_0\n",
    "    D_h[0] = D_0\n",
    "    \n",
    "    S_v[0] = lice_index*(S_0+R_0)\n",
    "    I_v[0] = lice_index*I1_0\n",
    "\n",
    "    for i in range(1, t):\n",
    "        N_h = S_h[i-1] + I1_h[i-1] + I2_h[i-1] + R_h[i-1]\n",
    "        \n",
    "        new_I1 = min(S_h[i-1], beta_h*S_h[i-1]*I_v[i-1]/N_h)\n",
    "        new_I2_and_R = min(I1_h[i-1], sigma*I1_h[i-1])\n",
    "        new_I2 = mu*new_I2_and_R\n",
    "        new_recovered = new_I2_and_R - new_I2\n",
    "        new_dead = min(I2_h[i-1], gamma*I2_h[i-1])\n",
    "\n",
    "        S_h[i] = S_h[i-1] - new_I1\n",
    "        I1_h[i] = I1_h[i-1] + new_I1 - new_I2_and_R\n",
    "        I2_h[i] = I2_h[i-1] + new_I2 - new_dead\n",
    "        R_h[i] = R_h[i-1] + new_recovered\n",
    "        D_h[i] = new_dead\n",
    "\n",
    "        lice_K = lice_index*N_h\n",
    "        if (S_v[i-1]+I_v[i-1]/lice_K) < 1:\n",
    "            lice_births = 0.111*S_v[i-1]*(1-(S_v[i-1]+I_v[i-1])/lice_K)\n",
    "        elif (S_v[i-1]+I_v[i-1]/lice_K) > 1:\n",
    "            lice_births = 0.\n",
    "\n",
    "        new_I1_infected_lice = beta_1*S_v[i-1]*I1_h[i-1]/N_h\n",
    "        new_I2_infected_lice = beta_2*S_v[i-1]*I2_h[i-1]/N_h\n",
    "        new_removed_lice = 0.33*I_v[i-1]\n",
    "\n",
    "        new_infected_lice = min(S_v[i-1],((beta_1*S_v[i-1]*I1_h[i-1]/N_h) + (beta_2*S_v[i-1]*I2_h[i-1]/N_h)))\n",
    "        new_removed_lice = 0.33*I_v[i-1]\n",
    "\n",
    "        S_v[i] = S_v[i-1] + lice_births - new_infected_lice\n",
    "        I_v[i] = I_v[i-1] + new_infected_lice - new_removed_lice\n",
    "        \n",
    "    return S_h,I1_h,I2_h,R_h,D_h,S_v,I_v\n",
    "\n",
    "D_h = pm.Lambda('D_h', lambda SIRD=SIRD: SIRD[4])\n",
    "\n",
    "#Likelihood\n",
    "mortality = pm.Poisson('mortality', mu=D_h, value=mortality_data, observed=True)\n",
    "mortality_sim = pm.Poisson('mortality_sim', mu=D_h)"
   ]
  },
  {
   "cell_type": "markdown",
   "metadata": {
    "id": "kcNWg2izwxJe"
   },
   "source": [
    "lonc#### Fit the model"
   ]
  },
  {
   "cell_type": "code",
   "execution_count": null,
   "metadata": {
    "ExecuteTime": {
     "end_time": "2020-12-11T15:30:16.119836Z",
     "start_time": "2020-12-11T15:30:14.737Z"
    },
    "colab": {
     "base_uri": "https://localhost:8080/"
    },
    "id": "Y8u6G1srwxJf",
    "outputId": "d1f088a3-41d4-48a6-f939-b0d12ad9ae22"
   },
   "outputs": [],
   "source": [
    "if __name__ == '__main__':\n",
    "    vars = [mortality_data, beta_1, beta_2, beta_h, sigma, mu, gamma, lice_index, \n",
    "            I1_0, I2_0, R_0, D_0, D_h,\n",
    "            sus_frac,mortality, mortality_sim]\n",
    "    \n",
    "    mc = pm.MCMC(vars, db='pickle', dbname='ectoparasite')\n",
    "    mc.use_step_method(pm.AdaptiveMetropolis, [beta_1, beta_2, sus_frac, I1_0])\n",
    "    mc.sample(iter=180000, burn=80000, thin=10, verbose=0)\n",
    "    mc.sample(iter=180000, burn=80000, thin=10, verbose=0)\n",
    "    mc.sample(iter=180000, burn=80000, thin=10, verbose=0)\n",
    "    mc.db.close()"
   ]
  },
  {
   "cell_type": "markdown",
   "metadata": {
    "id": "v12Knv63wxJi"
   },
   "source": [
    "#### Output summary"
   ]
  },
  {
   "cell_type": "code",
   "execution_count": null,
   "metadata": {
    "ExecuteTime": {
     "end_time": "2020-12-11T15:30:16.121578Z",
     "start_time": "2020-12-11T15:30:14.738Z"
    },
    "colab": {
     "base_uri": "https://localhost:8080/"
    },
    "id": "eixsue39wxJj",
    "outputId": "a83c03dd-b37e-4cf8-d909-c906876ee904"
   },
   "outputs": [],
   "source": [
    "pm.gelman_rubin(mc)"
   ]
  },
  {
   "cell_type": "code",
   "execution_count": null,
   "metadata": {
    "ExecuteTime": {
     "end_time": "2020-12-11T15:30:16.123421Z",
     "start_time": "2020-12-11T15:30:14.739Z"
    },
    "colab": {
     "base_uri": "https://localhost:8080/"
    },
    "id": "mdHgHC_GwxJl",
    "outputId": "78edec88-4d41-4577-e2b7-0b882983e915"
   },
   "outputs": [],
   "source": [
    "mc.summary()"
   ]
  },
  {
   "cell_type": "code",
   "execution_count": null,
   "metadata": {
    "ExecuteTime": {
     "end_time": "2020-12-11T15:30:16.124986Z",
     "start_time": "2020-12-11T15:30:14.740Z"
    },
    "colab": {
     "base_uri": "https://localhost:8080/"
    },
    "id": "zlmlEGSCwxJn",
    "outputId": "2ede34d4-8a10-46a2-edec-40719ea03180"
   },
   "outputs": [],
   "source": [
    "M = pm.MAP(mc)\n",
    "M.fit()\n",
    "print(\"BIC:\", M.BIC)\n",
    "print(\"AIC:\", M.AIC)"
   ]
  },
  {
   "cell_type": "markdown",
   "metadata": {
    "id": "h3Fd8JpUwxJp"
   },
   "source": [
    "#### Plot the posteriors"
   ]
  },
  {
   "cell_type": "code",
   "execution_count": null,
   "metadata": {
    "ExecuteTime": {
     "end_time": "2020-12-11T15:30:16.126798Z",
     "start_time": "2020-12-11T15:30:14.741Z"
    },
    "colab": {
     "base_uri": "https://localhost:8080/",
     "height": 1000
    },
    "id": "bTz6GbZwwxJp",
    "outputId": "8c4dbafd-048e-4cc2-e73f-c943c6c06239",
    "scrolled": false
   },
   "outputs": [],
   "source": [
    "%matplotlib inline\n",
    "plot(mc)"
   ]
  },
  {
   "cell_type": "code",
   "execution_count": null,
   "metadata": {
    "ExecuteTime": {
     "end_time": "2020-12-11T15:30:16.129099Z",
     "start_time": "2020-12-11T15:30:14.742Z"
    }
   },
   "outputs": [],
   "source": [
    "m_deaths = np.array(mortality_sim.stats()['mean'])\n",
    "d_deaths = np.array(mortality_data)\n",
    "# print m_deaths\n",
    "# print d_deaths\n",
    "rmsq = np.sqrt(np.mean(( m_deaths - d_deaths)**2))\n",
    "print rmsq"
   ]
  },
  {
   "cell_type": "markdown",
   "metadata": {
    "id": "XQmDU3QlwxJr"
   },
   "source": [
    "#### Plot the fit"
   ]
  },
  {
   "cell_type": "code",
   "execution_count": null,
   "metadata": {
    "ExecuteTime": {
     "end_time": "2020-12-11T15:30:16.131559Z",
     "start_time": "2020-12-11T15:30:14.744Z"
    },
    "colab": {
     "base_uri": "https://localhost:8080/"
    },
    "id": "Gf5tm-XGwxJs",
    "outputId": "8f3a5846-7046-4804-9101-c9c9de1743f7",
    "scrolled": true
   },
   "outputs": [],
   "source": [
    "%matplotlib inline\n",
    "plt.figure(figsize=(10,10))\n",
    "plt.title('Human-Ectoparasite - Florence 1400', fontsize=40)\n",
    "plt.xlabel('Day', fontsize=30)\n",
    "plt.ylabel('Deaths', fontsize=30)\n",
    "plt.plot(mortality_data, 'o', mec='black', color='black', label='Observed deaths')\n",
    "plt.plot(mortality_sim.stats()['mean'], color='red', linewidth=1, label='BPL (mean)')\n",
    "y_min = mortality_sim.stats()['quantiles'][2.5]\n",
    "y_max = mortality_sim.stats()['quantiles'][97.5]\n",
    "plt.fill_between(range(0,len(mortality_data)), y_min, y_max, color='r', alpha=0.3, label='BPL (95% CI)')\n",
    "plt.legend(prop={\"size\":22})\n",
    "# plt.savefig('barcelona_1490_bpl.png')"
   ]
  },
  {
   "cell_type": "code",
   "execution_count": null,
   "metadata": {
    "id": "1dOE8zwBwxJu"
   },
   "outputs": [],
   "source": []
  }
 ],
 "metadata": {
  "anaconda-cloud": {},
  "colab": {
   "collapsed_sections": [],
   "name": "pymc2_human_ectoparasite_barcelona.ipynb",
   "provenance": []
  },
  "hide_input": false,
  "kernelspec": {
   "display_name": "Python 2",
   "language": "python",
   "name": "python2"
  },
  "language_info": {
   "codemirror_mode": {
    "name": "ipython",
    "version": 2
   },
   "file_extension": ".py",
   "mimetype": "text/x-python",
   "name": "python",
   "nbconvert_exporter": "python",
   "pygments_lexer": "ipython2",
   "version": "2.7.18"
  }
 },
 "nbformat": 4,
 "nbformat_minor": 1
}
